{
 "cells": [
  {
   "cell_type": "code",
   "execution_count": null,
   "id": "5ff3f37e-4198-41dd-bb14-a299963b58f8",
   "metadata": {},
   "outputs": [],
   "source": [
    "# 1 Write a Python program to print the numbers from 1 to 10 using a `for` loop.\n"
   ]
  },
  {
   "cell_type": "code",
   "execution_count": null,
   "id": "14d38de1-71cd-4a9d-99bb-1094474ea407",
   "metadata": {},
   "outputs": [],
   "source": [
    "for i in range(1,10+1):\n",
    "    print(i)"
   ]
  },
  {
   "cell_type": "code",
   "execution_count": null,
   "id": "b1cbfe02-86a0-4abe-8268-b34dc0c83f6c",
   "metadata": {},
   "outputs": [],
   "source": [
    "#2 Create a program that calculates the sum of all numbers in a list using a `for` loop"
   ]
  },
  {
   "cell_type": "code",
   "execution_count": null,
   "id": "c3dabf35-33da-4e9c-a041-8db5ae77ae2b",
   "metadata": {},
   "outputs": [],
   "source": [
    "l=[1,2,3,4,5,6,7,8]\n",
    "for i in l:\n",
    "    sum+=i\n",
    "print(sum)"
   ]
  },
  {
   "cell_type": "code",
   "execution_count": null,
   "id": "e0619912-e5dd-4a0a-9e99-0403d14cf519",
   "metadata": {},
   "outputs": [],
   "source": [
    "#3 Write a program to print the characters of a string in reverse order using a `for` loop"
   ]
  },
  {
   "cell_type": "code",
   "execution_count": null,
   "id": "7bec7533-c945-44d0-a2c0-7697d11e3f9d",
   "metadata": {},
   "outputs": [],
   "source": [
    "s=\"i am coming to village\"\n",
    "l=s.split()\n",
    "for i in l[::-1]:\n",
    "    print(i[::-1],end=\" \")"
   ]
  },
  {
   "cell_type": "code",
   "execution_count": null,
   "id": "1a368dee-abc6-4e04-a047-7cd1779bfbea",
   "metadata": {},
   "outputs": [],
   "source": [
    "#4 Develop a program that finds the factorial of a given number using a `for` loop"
   ]
  },
  {
   "cell_type": "code",
   "execution_count": null,
   "id": "d6d12143-cd63-4b43-bf0a-bf883d0350ca",
   "metadata": {},
   "outputs": [],
   "source": [
    "n=5\n",
    "f=1\n",
    "for i in range(1,n+1):\n",
    "    f*=i\n",
    "print(f)"
   ]
  },
  {
   "cell_type": "code",
   "execution_count": null,
   "id": "2d99cb4d-deab-4a70-a5a6-f04af1101f71",
   "metadata": {},
   "outputs": [],
   "source": [
    "#5 Create a program to print the multiplication table of a given number using a `for` loop"
   ]
  },
  {
   "cell_type": "code",
   "execution_count": null,
   "id": "1fe3a69d-0bd7-4546-876f-90b12f1281a1",
   "metadata": {},
   "outputs": [],
   "source": [
    "n=6\n",
    "for i in range(1,11):\n",
    "    print(\"6 x \",i,\" = \",6*i)"
   ]
  },
  {
   "cell_type": "code",
   "execution_count": null,
   "id": "60ab1a12-fd11-48d1-9d60-6a2b26b8db96",
   "metadata": {},
   "outputs": [],
   "source": [
    "#6 6. Write a program that counts the number of even and odd numbers in a list using a `for` loop"
   ]
  },
  {
   "cell_type": "code",
   "execution_count": null,
   "id": "e1da5751-281f-4332-9610-a05637c01897",
   "metadata": {},
   "outputs": [],
   "source": [
    "l=[1, 2, 3, 4, 5, 6, 7, 8, 9, 10, 11, 12, 13, 14, 15, 16, 17, 18, 19, 20, 21, 22, 23, 24, 25]\n",
    "ceven=0\n",
    "codd=0\n",
    "for i in l:\n",
    "    if i%2==0:\n",
    "        ceven+=1\n",
    "    else:\n",
    "        codd+=1\n",
    "print(\"even numbers = \",ceven)\n",
    "print(\"odd numbers = \",codd)"
   ]
  },
  {
   "cell_type": "code",
   "execution_count": null,
   "id": "1a9f6242-b183-428b-9158-996fdab547d3",
   "metadata": {},
   "outputs": [],
   "source": [
    "#7 Develop a program that prints the squares of numbers from 1 to 5 using a `for` loop"
   ]
  },
  {
   "cell_type": "code",
   "execution_count": null,
   "id": "8acdfcf0-cede-4471-b171-9737a4110edc",
   "metadata": {},
   "outputs": [],
   "source": [
    "for i in range(1,5+1):\n",
    "    print(i**2)"
   ]
  },
  {
   "cell_type": "code",
   "execution_count": null,
   "id": "4aad0ffb-e89c-4c80-a6d6-1ef0c406df61",
   "metadata": {},
   "outputs": [],
   "source": [
    "#8 Create a program to find the length of a string without using the `len()` function"
   ]
  },
  {
   "cell_type": "code",
   "execution_count": null,
   "id": "fc4a2dbc-3765-42f6-ad5a-4e259a29428f",
   "metadata": {},
   "outputs": [],
   "source": [
    "s=\"i am coming soon\"\n",
    "len=0\n",
    "for i in s:\n",
    "    len+=1\n",
    "print(\"length of the string = \",len)"
   ]
  },
  {
   "cell_type": "code",
   "execution_count": null,
   "id": "c1fd253e-2122-466f-b44b-dcd0ee23426a",
   "metadata": {},
   "outputs": [],
   "source": [
    "#9 Write a program that calculates the average of a list of numbers using a `for` loop"
   ]
  },
  {
   "cell_type": "code",
   "execution_count": null,
   "id": "9cbaf8c2-6b6c-4b2a-aa75-622751e2f758",
   "metadata": {},
   "outputs": [],
   "source": [
    "l=[1,2,3,4,5,6,7,8]\n",
    "len=0\n",
    "sum=0\n",
    "for i in l:\n",
    "    sum+=i\n",
    "    len+=1\n",
    "print(\"Average = \",sum/len)"
   ]
  },
  {
   "cell_type": "code",
   "execution_count": null,
   "id": "dbab0269-43c0-451a-8d14-b731ca5b74b5",
   "metadata": {},
   "outputs": [],
   "source": [
    "#10 Develop a program that prints the first `n` Fibonacci numbers using a `for` loop"
   ]
  },
  {
   "cell_type": "code",
   "execution_count": null,
   "id": "334946cf-8084-44b1-a710-3ac7ae573267",
   "metadata": {},
   "outputs": [],
   "source": [
    "n=6\n",
    "l=[0,1]\n",
    "for i in range(2,n):\n",
    "    l.append(l[-1]+l[-2])\n",
    "for i in l:\n",
    "    print(i,end=\" \")"
   ]
  },
  {
   "cell_type": "code",
   "execution_count": null,
   "id": "dbc68abe-351a-4bf8-a057-9de4807342bf",
   "metadata": {},
   "outputs": [],
   "source": [
    "#11 Write a program to check if a given list contains any duplicates using a `for` loop"
   ]
  },
  {
   "cell_type": "code",
   "execution_count": null,
   "id": "bf62fc56-009b-4223-b1b2-8c61efd3dc63",
   "metadata": {},
   "outputs": [],
   "source": [
    "l1=[1,2,3,4,5,6,7,8,8,3,3,2,1,2]\n",
    "b=0\n",
    "for i in range(len(l1)):\n",
    "    for j in range(i+1,len(l1)):\n",
    "        if l1[i]==l1[j]:\n",
    "            b+=1\n",
    "            break\n",
    "if b>=1:\n",
    "    print(\"the list have duplicates\")\n",
    "else:\n",
    "    print(\"The list does'nt have duplicates\")"
   ]
  },
  {
   "cell_type": "code",
   "execution_count": null,
   "id": "b46977d6-16a8-4d8b-b6ae-3f80e13ebcea",
   "metadata": {},
   "outputs": [],
   "source": [
    "#12 Create a program that prints the prime numbers in a given range using a `for` loop"
   ]
  },
  {
   "cell_type": "code",
   "execution_count": null,
   "id": "e9b892dd-0684-4130-9920-41e81599a985",
   "metadata": {},
   "outputs": [],
   "source": [
    "for i in range(1,100):\n",
    "    for j in range(2,i):\n",
    "        if i%j==0:\n",
    "            break\n",
    "    else:\n",
    "        print(i,end=\" \")"
   ]
  },
  {
   "cell_type": "code",
   "execution_count": null,
   "id": "b9adab36-b17a-4c4b-9877-eff1f2e0b7a5",
   "metadata": {},
   "outputs": [],
   "source": [
    "#13 Develop a program that counts the number of vowels in a string using a `for` loop"
   ]
  },
  {
   "cell_type": "code",
   "execution_count": null,
   "id": "54ad2a4a-19cf-40a5-af8f-2e06339d8dd6",
   "metadata": {},
   "outputs": [],
   "source": [
    "s=\"the gaurdians of the galaxy\"\n",
    "v=\"aeiouAEIOU\"\n",
    "sum=0\n",
    "for i in s: \n",
    "    if i in v:\n",
    "        sum+=1\n",
    "print(\"The number of vowels = \",sum)"
   ]
  },
  {
   "cell_type": "code",
   "execution_count": null,
   "id": "21a2c6e3-8e91-430a-9be4-c72d0d225ace",
   "metadata": {},
   "outputs": [],
   "source": [
    "#14 Write a program to find the maximum element in a 2D list using a nested `for' loop"
   ]
  },
  {
   "cell_type": "code",
   "execution_count": null,
   "id": "42cb8278-600b-49e0-8dc1-5a7850344e44",
   "metadata": {},
   "outputs": [],
   "source": [
    "l=[[3, 7, 1],[8, 4, 9],[2, 5, 6]]\n",
    "maxi=l[0][0]\n",
    "for i in l:\n",
    "    for j in i:\n",
    "        if j>maxi:\n",
    "            maxi=j\n",
    "print(\"maximum element = \",maxi)"
   ]
  },
  {
   "cell_type": "code",
   "execution_count": null,
   "id": "5344a58a-edf9-468a-8a15-3a7da4a3e44a",
   "metadata": {},
   "outputs": [],
   "source": [
    "#15 Create a program that removes all occurrences of a specific element from a list using a `for` loop"
   ]
  },
  {
   "cell_type": "code",
   "execution_count": null,
   "id": "7b1cc0c5-a542-496f-aa60-6afd0445e2ce",
   "metadata": {},
   "outputs": [],
   "source": [
    "l1=[1,2,3,4,5,6,7,8,8,3,3,2,1,2]\n",
    "r=2\n",
    "for i in l1:\n",
    "    if i==r:\n",
    "        l1.remove(i)\n",
    "print(l1)"
   ]
  },
  {
   "cell_type": "code",
   "execution_count": null,
   "id": "824e8d52-b3d7-44f0-8452-971231e5ee04",
   "metadata": {},
   "outputs": [],
   "source": [
    "#16 Develop a program that generates a multiplication table for numbers from 1 to 5 using a nested `for` loop"
   ]
  },
  {
   "cell_type": "code",
   "execution_count": null,
   "id": "40b3fdf7-7ec6-4472-a992-f5ee5a3ba2ae",
   "metadata": {},
   "outputs": [],
   "source": [
    "for i in range(1,6):\n",
    "    for j in range(1,11):\n",
    "        print(i,\"x\",j,\"=\",i*j)"
   ]
  },
  {
   "cell_type": "code",
   "execution_count": null,
   "id": "e299f6dc-3bc5-4220-b3f2-12c64cf5de37",
   "metadata": {},
   "outputs": [],
   "source": [
    "#17 Write a program that converts a list of Fahrenheit temperatures to Celsius using a `for` loop"
   ]
  },
  {
   "cell_type": "code",
   "execution_count": null,
   "id": "3ebec4bd-84c2-42b1-a402-f283f7e22e90",
   "metadata": {},
   "outputs": [],
   "source": [
    "fl=[123,342,543,455,644,79]\n",
    "cl=[]\n",
    "for i in fl:\n",
    "    cl.append((i-32)*5/9)\n",
    "print(\"list of celsius tempertures = \",cl)"
   ]
  },
  {
   "cell_type": "code",
   "execution_count": null,
   "id": "dc13c5bc-886d-4f42-9e90-a64b1ab3df00",
   "metadata": {},
   "outputs": [],
   "source": [
    "#18 Create a program to print the common elements from two lists using a `for` loop"
   ]
  },
  {
   "cell_type": "code",
   "execution_count": null,
   "id": "54b9656c-7874-41a5-b31b-25ed3975414c",
   "metadata": {},
   "outputs": [],
   "source": [
    "l1=[1,2,3,4,5,6]\n",
    "l2=[6,7,8,9,1,2]\n",
    "l=[]\n",
    "for i in l1:\n",
    "    if i in l2:\n",
    "        l.append(i)\n",
    "print(\"Common elements list = \",l)"
   ]
  },
  {
   "cell_type": "code",
   "execution_count": null,
   "id": "e19b82a6-c6e1-4e23-b2a8-dfd637ff527a",
   "metadata": {},
   "outputs": [],
   "source": [
    "#19 Develop a program that prints the pattern of right-angled triangles using a `for` loop. Use ‘*’ to draw the pattern"
   ]
  },
  {
   "cell_type": "code",
   "execution_count": null,
   "id": "1194dbd1-1d56-4449-9f06-13c97104c0e2",
   "metadata": {},
   "outputs": [],
   "source": [
    "for i in range(5):\n",
    "    for j in range(i+1):\n",
    "        print(\"*\",end=\" \")\n",
    "    print()"
   ]
  },
  {
   "cell_type": "code",
   "execution_count": null,
   "id": "fc1121bd-27da-4d4d-bcc8-7c176cc935c0",
   "metadata": {},
   "outputs": [],
   "source": [
    "#20 Write a program to find the greatest common divisor (GCD) of two numbers using a `for` loop"
   ]
  },
  {
   "cell_type": "code",
   "execution_count": null,
   "id": "f5bca308-dc27-4ef6-a919-8d9df3b54edb",
   "metadata": {},
   "outputs": [],
   "source": [
    "m=int(input(\"Enter the first element = \"))\n",
    "n=int(input(\"Enter the second element = \"))\n",
    "gcd=1\n",
    "for i in range(1,min(m,n)+1):\n",
    "    if m%i==0 and n%i==0:\n",
    "        gcd=i\n",
    "print(\"Greatest Common Factor = \",gcd)"
   ]
  },
  {
   "cell_type": "code",
   "execution_count": null,
   "id": "ca55eec3-e06b-42b9-a4a8-379eace604ef",
   "metadata": {},
   "outputs": [],
   "source": [
    "#21 Create a program that calculates the sum of the digits of numbers in a list using a list comprehension"
   ]
  },
  {
   "cell_type": "code",
   "execution_count": null,
   "id": "db6d1270-2113-4493-9fd7-5dbd8bd7302b",
   "metadata": {},
   "outputs": [],
   "source": [
    "l1=[1,2,3,4,5]\n",
    "len=0\n",
    "l=sum([i for i in l1])\n",
    "print(l)"
   ]
  },
  {
   "cell_type": "code",
   "execution_count": null,
   "id": "b0d00199-4fcd-4e4c-9e18-6955bcaddd77",
   "metadata": {},
   "outputs": [],
   "source": [
    "#22 Write a program to find the prime factors of a given number using a `for` loop and list comprehension"
   ]
  },
  {
   "cell_type": "code",
   "execution_count": null,
   "id": "362695ae-4cf5-4719-bb6c-c4441db19700",
   "metadata": {},
   "outputs": [],
   "source": [
    "n=int(input(\"Enter the number\"))\n",
    "s=[i for i in range(2,n) if n%i==0 and all(i%j!=0 for j in range(2,int(i**0.50)+1))]\n",
    "print(\"Prime factors of \",n,\"are\",s)"
   ]
  },
  {
   "cell_type": "code",
   "execution_count": null,
   "id": "90d7151a-944d-4e13-b24e-99d7d8c5fcf8",
   "metadata": {},
   "outputs": [],
   "source": [
    "#23 Develop a program that extracts unique elements from a list and stores them in a new list using a list comprehension"
   ]
  },
  {
   "cell_type": "code",
   "execution_count": null,
   "id": "dfdef265-86be-455d-b6bd-91309e192a18",
   "metadata": {},
   "outputs": [],
   "source": [
    "l1=[1,2,3,4,5,6,7,8,8,3,3,2,1,2]\n",
    "unique=[i for i in l1 if l1.count(i)==1]\n",
    "print(\"Unique elements are\",unique)"
   ]
  },
  {
   "cell_type": "code",
   "execution_count": null,
   "id": "c83b31a5-989f-470d-9f31-68ebc1259c63",
   "metadata": {},
   "outputs": [],
   "source": [
    "#24 Create a program that generates a list of all palindromic numbers up to a specified limit using a list comprehension"
   ]
  },
  {
   "cell_type": "code",
   "execution_count": null,
   "id": "81bf298d-8928-44e0-8463-d90006be73c7",
   "metadata": {},
   "outputs": [],
   "source": [
    "n=int(input(\"Enter the limit = \"))\n",
    "p=[i for i in range(1,n+1) if str(i)==str(i)[::-1]]\n",
    "print(p)"
   ]
  },
  {
   "cell_type": "code",
   "execution_count": null,
   "id": "157e4738-8d68-4b90-bbdf-e6853cba639a",
   "metadata": {},
   "outputs": [],
   "source": [
    "#25 Write a program to flatten a nested list using list comprehension"
   ]
  },
  {
   "cell_type": "code",
   "execution_count": null,
   "id": "2498b956-e69d-49c8-938d-5b4bdd8edee3",
   "metadata": {},
   "outputs": [],
   "source": [
    "l=[[3, 7, 1],[8, 4, 9],[2, 5, 6]]\n",
    "fl=[i for j in l for i in j]\n",
    "print(fl)"
   ]
  },
  {
   "cell_type": "code",
   "execution_count": null,
   "id": "3ed36e93-a72f-4a22-a870-de3283235048",
   "metadata": {},
   "outputs": [],
   "source": [
    "#26 Develop a program that computes the sum of even and odd numbers in a list separately using list comprehension"
   ]
  },
  {
   "cell_type": "code",
   "execution_count": null,
   "id": "44c7e350-027b-4412-a055-ee030a9c9cce",
   "metadata": {},
   "outputs": [],
   "source": [
    "l=[1, 2, 3, 4, 5, 6, 7, 8, 9, 10, 11, 12, 13, 14, 15, 16, 17, 18, 19, 20, 21, 22, 23, 24, 25]\n",
    "es=sum([i for i in l if i%2==0])\n",
    "os=sum([i for i in l if i%2!=0])\n",
    "print(\"sum of even numbers = \",es)\n",
    "print(\"sum of odd numbers = \",os)"
   ]
  },
  {
   "cell_type": "code",
   "execution_count": null,
   "id": "f7148de1-2548-4e63-9ca2-b1d978c566f6",
   "metadata": {},
   "outputs": [],
   "source": [
    "#27 Create a program that generates a list of squares of odd numbers between 1 and 10 using list comprehension"
   ]
  },
  {
   "cell_type": "code",
   "execution_count": null,
   "id": "93a926c5-fd24-481c-8f7a-3ba37cc71fba",
   "metadata": {},
   "outputs": [],
   "source": [
    "l=[3, 7, 1, 8, 4, 9, 2, 5, 6]\n",
    "sl=[i*i for i in l if i%2!=0]\n",
    "print(sl)"
   ]
  },
  {
   "cell_type": "code",
   "execution_count": null,
   "id": "dfec5e34-fbbf-4d2b-8883-3922c59cdde1",
   "metadata": {},
   "outputs": [],
   "source": [
    "#28 Write a program that combines two lists into a dictionary using list comprehension"
   ]
  },
  {
   "cell_type": "code",
   "execution_count": null,
   "id": "8f276a23-478b-490e-acbf-f1be7bf6fd70",
   "metadata": {},
   "outputs": [],
   "source": [
    "keys=[\"name\",\"college\",\"degree\"]\n",
    "values=[\"mahesh\",\"uvce\",\"btech\"]\n",
    "l={keys[i]:values[i] for i in range(len(keys))}\n",
    "print(l)"
   ]
  },
  {
   "cell_type": "code",
   "execution_count": null,
   "id": "88ffc20a-75b6-4f71-a397-e0e84adc3620",
   "metadata": {},
   "outputs": [],
   "source": [
    "#29 Develop a program that extracts the vowels from a string and stores them in a list using list comprehension"
   ]
  },
  {
   "cell_type": "code",
   "execution_count": null,
   "id": "74a076e6-461f-4ce8-9082-4463380811f0",
   "metadata": {},
   "outputs": [],
   "source": [
    "a=input(\"Enter the word\")\n",
    "vowels=\"aeiouAEIOU\"\n",
    "vl=[i for i in a if i in vowels]\n",
    "print(vl)"
   ]
  },
  {
   "cell_type": "code",
   "execution_count": null,
   "id": "2dbf4d41-ac79-46f6-8a84-b7636e26bab7",
   "metadata": {},
   "outputs": [],
   "source": [
    "#30 Create a program that removes all non-numeric characters from a list of strings using list comprehension"
   ]
  },
  {
   "cell_type": "code",
   "execution_count": null,
   "id": "f0c12f07-3b22-463d-b2b8-d4c6fc094620",
   "metadata": {},
   "outputs": [],
   "source": [
    "l=[1,2,3,4,5,4,\"mahesh\",5,6,\"hi\"]\n",
    "numeric=[i for i in l1 if i.isdigit()]\n",
    "print(numeric)"
   ]
  },
  {
   "cell_type": "code",
   "execution_count": null,
   "id": "db94fc6f-e647-4cde-8060-8bafb284f631",
   "metadata": {},
   "outputs": [],
   "source": [
    "#31 Write a program to generate a list of prime numbers using the Sieve of Eratosthenes algorithm and list comprehension"
   ]
  },
  {
   "cell_type": "code",
   "execution_count": null,
   "id": "b0907537-9c09-4d6a-9205-2820d41078ed",
   "metadata": {},
   "outputs": [],
   "source": [
    "n=int(input(\"Enter the limit : \"))\n",
    "l=[2,3,5,7]\n",
    "[l.append(i) for i in range(2,n) if(i%2!=0 and i%3!=0 and i%5!=0 and i%7!=0)]\n",
    "print(l)"
   ]
  },
  {
   "cell_type": "code",
   "execution_count": null,
   "id": "f1999bf1-a661-45a1-960e-01612f15efac",
   "metadata": {},
   "outputs": [],
   "source": [
    "#32 Create a program that generates a list of all Pythagorean triplets up to a specified limit using list comprehension"
   ]
  },
  {
   "cell_type": "code",
   "execution_count": null,
   "id": "c7a85005-8b13-435d-828c-04c8b05f512d",
   "metadata": {},
   "outputs": [],
   "source": [
    "l= int(input(\"Enter the limit\"))\n",
    "py = [(a, b, c) for a in range(1, l+1) for b in range(a, l+1) for c in range(b, l+1) if a**2 + b**2 == c**2]\n",
    "print(py)"
   ]
  },
  {
   "cell_type": "code",
   "execution_count": null,
   "id": "05d8c647-a30a-43df-8292-1e035cc1b165",
   "metadata": {},
   "outputs": [],
   "source": [
    "#33 Develop a program that generates a list of all possible combinations of two lists using list comprehension"
   ]
  },
  {
   "cell_type": "code",
   "execution_count": null,
   "id": "5d362b00-08a7-4cc9-9a32-049e60c7528f",
   "metadata": {},
   "outputs": [],
   "source": [
    "l1=[1,2,3,4,5]\n",
    "l2=[5,6,7,8,9]\n",
    "l=[(x,y) for x in l1 for y in l2]\n",
    "print(l)"
   ]
  },
  {
   "cell_type": "code",
   "execution_count": null,
   "id": "c94dc15e-5890-4175-a566-dbc63402cf5f",
   "metadata": {},
   "outputs": [],
   "source": [
    "#34 Write a program that calculates the mean, median, and mode of a list of numbers using list comprehension"
   ]
  },
  {
   "cell_type": "code",
   "execution_count": null,
   "id": "1f7112f2-71ed-417c-8638-37812b38f883",
   "metadata": {},
   "outputs": [],
   "source": [
    "l=[1,2,3,4,5,6,5]\n",
    "n=len(l)\n",
    "count=1\n",
    "mean=(sum([i for i in l]))/(n)\n",
    "median=l[n//2]\n",
    "mode=max([i for i in l if l.count(i)>count])\n",
    "print(\"mean = \",mean)\n",
    "print(\"median = \",median)\n",
    "print(\"mode = \",mode)"
   ]
  },
  {
   "cell_type": "code",
   "execution_count": null,
   "id": "db348a69-f5a5-4d03-b9e5-15df645172bd",
   "metadata": {},
   "outputs": [],
   "source": [
    "#35 Create a program that generates Pascal's triangle up to a specified number of rows using list comprehension"
   ]
  },
  {
   "cell_type": "code",
   "execution_count": null,
   "id": "ca1b2575-2713-4f9f-9b76-043fc46b8a5b",
   "metadata": {},
   "outputs": [],
   "source": [
    "n=int(input(\"Enter the upper limit of row required\"))\n",
    "p=[[1]]\n",
    "[p.append([1] + [p[row-1][i-1]+p[row-1][i] for i in range(row)] + [1]) for row in range(n)]\n",
    "for i in p:\n",
    "    for j in i:\n",
    "        print(j,end=\" \")\n",
    "    print()"
   ]
  },
  {
   "cell_type": "code",
   "execution_count": null,
   "id": "019d2186-f14c-42a3-aec4-af2115e5d7b2",
   "metadata": {},
   "outputs": [],
   "source": [
    "#36 Develop a program that calculates the sum of the digits of a factorial of numbers from 1 to 5 using list comprehension"
   ]
  },
  {
   "cell_type": "code",
   "execution_count": null,
   "id": "954a3c9e-e19c-4a62-8d2b-5843dd0b5ed2",
   "metadata": {},
   "outputs": [],
   "source": [
    "n=5\n",
    "f=1\n",
    "l=[]\n",
    "for i in range(1,n+1):\n",
    "    f*=i\n",
    "    l.append(f)\n",
    "sl=sum([i for i in l])\n",
    "print(sl)            "
   ]
  },
  {
   "cell_type": "code",
   "execution_count": null,
   "id": "4ab3986c-cc1a-477b-bc86-7119c18bc73c",
   "metadata": {},
   "outputs": [],
   "source": [
    "#37 Write a program that finds the longest word in a sentence using list comprehension"
   ]
  },
  {
   "cell_type": "code",
   "execution_count": null,
   "id": "715a3ae5-4736-400a-9f11-144cf53e135e",
   "metadata": {},
   "outputs": [],
   "source": [
    "a=input(\"Enter the sentence : \")\n",
    "l=a.split()\n",
    "b=[i for i in l if len(i)==len(max(l,key=lambda x:len(x)))]\n",
    "print(b[0])"
   ]
  },
  {
   "cell_type": "code",
   "execution_count": null,
   "id": "61221aca-8212-4692-80dc-ea1122138477",
   "metadata": {},
   "outputs": [],
   "source": [
    "#38 Create a program that filters a list of strings to include only those with more than three vowels using list comprehension"
   ]
  },
  {
   "cell_type": "code",
   "execution_count": null,
   "id": "74fa7e7b-fdf8-433f-9a26-3e2b0a3ed4c7",
   "metadata": {},
   "outputs": [],
   "source": [
    "a=input(\"Enter a string : \")\n",
    "s=a.split()\n",
    "v=\"aeiouAEIOU\"\n",
    "l=[i for i in s if sum(1 for j in i if j in v)>3]\n",
    "print(l)"
   ]
  },
  {
   "cell_type": "code",
   "execution_count": null,
   "id": "e543a0c8-a142-449b-bf2d-984d0f79b3d1",
   "metadata": {},
   "outputs": [],
   "source": [
    "#39 Develop a program that calculates the sum of the digits of numbers from 1 to 1000 using list comprehension"
   ]
  },
  {
   "cell_type": "code",
   "execution_count": null,
   "id": "96454e4e-499f-4da4-b2f0-43ae3ca35e13",
   "metadata": {},
   "outputs": [],
   "source": [
    "l=sum([i for i in range(1,1001)])\n",
    "print(l)"
   ]
  },
  {
   "cell_type": "code",
   "execution_count": null,
   "id": "4635cffe-07f3-46d2-81f3-7ec9ef40eb55",
   "metadata": {},
   "outputs": [],
   "source": [
    "#40 Write a program that generates a list of prime palindromic numbers using list comprehension"
   ]
  },
  {
   "cell_type": "code",
   "execution_count": null,
   "id": "6836110e-21b4-427d-a27b-1e0cafd52251",
   "metadata": {},
   "outputs": [],
   "source": [
    "l=int(input(\"Enter the limit : \"))\n",
    "ppn = [n for n in range(2, l+1) if all(n % i != 0 for i in range(2, int(n**0.5) + 1)) and str(n) == str(n)[::-1]]\n",
    "print(ppn)"
   ]
  },
  {
   "cell_type": "code",
   "execution_count": null,
   "id": "50a3779a-2e5f-4d63-a44b-8f04e23fc098",
   "metadata": {},
   "outputs": [],
   "source": []
  }
 ],
 "metadata": {
  "kernelspec": {
   "display_name": "Python 3 (ipykernel)",
   "language": "python",
   "name": "python3"
  },
  "language_info": {
   "codemirror_mode": {
    "name": "ipython",
    "version": 3
   },
   "file_extension": ".py",
   "mimetype": "text/x-python",
   "name": "python",
   "nbconvert_exporter": "python",
   "pygments_lexer": "ipython3",
   "version": "3.10.8"
  }
 },
 "nbformat": 4,
 "nbformat_minor": 5
}
